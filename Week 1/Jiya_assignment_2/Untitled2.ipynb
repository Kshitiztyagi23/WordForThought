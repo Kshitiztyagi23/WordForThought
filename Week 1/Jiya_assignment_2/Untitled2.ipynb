{
  "nbformat": 4,
  "nbformat_minor": 0,
  "metadata": {
    "colab": {
      "provenance": []
    },
    "kernelspec": {
      "name": "python3",
      "display_name": "Python 3"
    },
    "language_info": {
      "name": "python"
    }
  },
  "cells": [
    {
      "cell_type": "code",
      "execution_count": 7,
      "metadata": {
        "colab": {
          "base_uri": "https://localhost:8080/"
        },
        "id": "owNPQuZy33y1",
        "outputId": "ddea80b8-ce27-46ab-c6b1-7ec90182d5d2"
      },
      "outputs": [
        {
          "output_type": "stream",
          "name": "stdout",
          "text": [
            "(350, 4)\n",
            "(150, 4)\n",
            "(350,)\n",
            "(150,)\n",
            "                             OLS Regression Results                            \n",
            "===============================================================================\n",
            "Dep. Variable:     Yearly Amount Spent   R-squared:                       0.986\n",
            "Model:                             OLS   Adj. R-squared:                  0.986\n",
            "Method:                  Least Squares   F-statistic:                     6062.\n",
            "Date:                 Thu, 12 Dec 2024   Prob (F-statistic):          3.96e-318\n",
            "Time:                         12:50:55   Log-Likelihood:                -1288.1\n",
            "No. Observations:                  350   AIC:                             2586.\n",
            "Df Residuals:                      345   BIC:                             2605.\n",
            "Df Model:                            4                                         \n",
            "Covariance Type:             nonrobust                                         \n",
            "========================================================================================\n",
            "                           coef    std err          t      P>|t|      [0.025      0.975]\n",
            "----------------------------------------------------------------------------------------\n",
            "const                -1061.0168     26.050    -40.729      0.000   -1112.254   -1009.779\n",
            "Avg. Session Length     26.1553      0.517     50.562      0.000      25.138      27.173\n",
            "Time on App             38.6201      0.515     74.925      0.000      37.606      39.634\n",
            "Time on Website          0.3176      0.509      0.624      0.533      -0.684       1.319\n",
            "Length of Membership    61.8204      0.520    118.967      0.000      60.798      62.842\n",
            "==============================================================================\n",
            "Omnibus:                        0.094   Durbin-Watson:                   1.881\n",
            "Prob(Omnibus):                  0.954   Jarque-Bera (JB):                0.063\n",
            "Skew:                           0.033   Prob(JB):                        0.969\n",
            "Kurtosis:                       2.995   Cond. No.                     2.58e+03\n",
            "==============================================================================\n",
            "\n",
            "Notes:\n",
            "[1] Standard Errors assume that the covariance matrix of the errors is correctly specified.\n",
            "[2] The condition number is large, 2.58e+03. This might indicate that there are\n",
            "strong multicollinearity or other numerical problems.\n"
          ]
        }
      ],
      "source": [
        "import numpy as np;\n",
        "import pandas as pd;\n",
        "import matplotlib.pyplot as plt;\n",
        "import seaborn as sns;\n",
        "import warnings;\n",
        "warnings.filterwarnings(\"ignore\");\n",
        "import pandas as pd\n",
        "import seaborn as sns\n",
        "file = pd.read_csv(\"Ecommerce Customers.csv\")\n",
        "file.head()\n",
        "from sklearn.model_selection import train_test_split\n",
        "X=file[['Avg. Session Length','Time on App','Time on Website','Length of Membership']]\n",
        "y =file['Yearly Amount Spent']\n",
        "\n",
        "\n",
        "X_train, X_test, y_train, y_test = train_test_split( X, y, train_size = 0.7, test_size = 0.3, random_state = 100 )\n",
        "print( X_train.shape )\n",
        "print( X_test.shape )\n",
        "print( y_train.shape )\n",
        "print( y_test.shape )\n",
        "import statsmodels.api as sm\n",
        "X_train_sm = sm.add_constant(X_train)\n",
        "lr = sm.OLS(y_train, X_train_sm).fit()\n",
        "lr.params\n",
        "print(lr.summary())"
      ]
    },
    {
      "cell_type": "code",
      "source": [
        "from sklearn.linear_model import LinearRegression\n",
        "from sklearn.metrics import mean_squared_error, r2_score\n",
        "LR = LinearRegression()\n",
        "LR.fit(X_train,y_train)\n",
        "y_prediction = LR.predict(X_test)\n",
        "y_prediction\n",
        "score = r2_score(y_test, y_prediction)\n",
        "\n",
        "from sklearn.metrics import mean_squared_error, r2_score\n",
        "print('r2_score is ' ,score)\n",
        "print('mean_sqrd_error is ==' , mean_squared_error(y_test,y_prediction))\n",
        "print('root_mean_squared error is ==', np.sqrt(mean_squared_error(y_test,y_prediction )))\n",
        "from sklearn.metrics import mean_absolute_error as mae\n",
        "print('mean_absolute_error is ==', mae(y_test,y_prediction))\n"
      ],
      "metadata": {
        "colab": {
          "base_uri": "https://localhost:8080/"
        },
        "id": "Ay3105r789PY",
        "outputId": "fa7ae94f-6d9d-48b3-adcd-0281edc02b48"
      },
      "execution_count": 10,
      "outputs": [
        {
          "output_type": "stream",
          "name": "stdout",
          "text": [
            "r2_score is  0.9795595418573947\n",
            "mean_sqrd_error is == 114.37618082343727\n",
            "root_mean_squared error is == 10.694680024359647\n",
            "mean_absolute_error is == 8.511790290965882\n"
          ]
        }
      ]
    }
  ]
}