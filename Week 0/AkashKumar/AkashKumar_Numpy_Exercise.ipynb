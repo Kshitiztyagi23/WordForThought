{
  "cells": [
    {
      "cell_type": "markdown",
      "metadata": {
        "id": "HfJB9JnS9xlK"
      },
      "source": [
        "# NumPy Exercises\n",
        "\n",
        "Now that we've learned about NumPy let's test your knowledge. We'll start off with a few simple tasks, and then you'll be asked some more complicated questions."
      ]
    },
    {
      "cell_type": "markdown",
      "metadata": {
        "id": "u9POEVg29xlM"
      },
      "source": [
        "#### Import NumPy as np"
      ]
    },
    {
      "cell_type": "code",
      "execution_count": 2,
      "metadata": {
        "id": "yyS-PuO_9xlM"
      },
      "outputs": [],
      "source": [
        "import numpy as np"
      ]
    },
    {
      "cell_type": "markdown",
      "metadata": {
        "id": "ehlpKUPc9xlM"
      },
      "source": [
        "#### Create an array of 10 zeros"
      ]
    },
    {
      "cell_type": "code",
      "execution_count": 3,
      "metadata": {
        "id": "aEQkK-Dw9xlN"
      },
      "outputs": [],
      "source": [
        "arr = np.array([0, 0, 0, 0, 0, 0, 0, 0, 0])"
      ]
    },
    {
      "cell_type": "markdown",
      "metadata": {
        "id": "6QHp05Ei9xlN"
      },
      "source": [
        "#### Create an array of 10 ones"
      ]
    },
    {
      "cell_type": "code",
      "execution_count": 3,
      "metadata": {
        "scrolled": true,
        "id": "ebe9xrC29xlN"
      },
      "outputs": [],
      "source": []
    },
    {
      "cell_type": "markdown",
      "metadata": {
        "id": "ziS-l3xp9xlO"
      },
      "source": [
        "#### Create an array of 10 fives"
      ]
    },
    {
      "cell_type": "code",
      "execution_count": 4,
      "metadata": {
        "id": "fFC7bqLM9xlO"
      },
      "outputs": [],
      "source": [
        "arr= np.array([5, 5, 5, 5, 5, 5, 5, 5, 5])"
      ]
    },
    {
      "cell_type": "markdown",
      "metadata": {
        "id": "kBugMXlC9xlO"
      },
      "source": [
        "#### Create an array of the integers from 10 to 50"
      ]
    },
    {
      "cell_type": "code",
      "execution_count": 5,
      "metadata": {
        "id": "JsO6qS9R9xlO"
      },
      "outputs": [],
      "source": [
        "arr=np.arange(10,51,1)"
      ]
    },
    {
      "cell_type": "markdown",
      "metadata": {
        "id": "dMw4V2L79xlO"
      },
      "source": [
        "#### Create an array of all the even integers from 10 to 50"
      ]
    },
    {
      "cell_type": "code",
      "execution_count": 6,
      "metadata": {
        "id": "4lK-5SQV9xlO"
      },
      "outputs": [],
      "source": [
        "arr=np.arange(10,51,2)"
      ]
    },
    {
      "cell_type": "markdown",
      "metadata": {
        "id": "g__F0rB39xlP"
      },
      "source": [
        "#### Create a 3x3 matrix with values ranging from 0 to 8"
      ]
    },
    {
      "cell_type": "code",
      "execution_count": 7,
      "metadata": {
        "id": "MmVXCn0K9xlP"
      },
      "outputs": [],
      "source": [
        "arr=np.arange(0,9)\n",
        "arr=arr.reshape(3,3)"
      ]
    },
    {
      "cell_type": "markdown",
      "metadata": {
        "id": "4YfT0aLo9xlP"
      },
      "source": [
        "#### Create a 3x3 identity matrix"
      ]
    },
    {
      "cell_type": "code",
      "execution_count": 8,
      "metadata": {
        "id": "UHa42UpQ9xlP"
      },
      "outputs": [],
      "source": [
        "arr=np.eye(3,3,0)"
      ]
    },
    {
      "cell_type": "markdown",
      "metadata": {
        "id": "bfwDbjhI9xlP"
      },
      "source": [
        "#### Use NumPy to generate a random number between 0 and 1"
      ]
    },
    {
      "cell_type": "code",
      "execution_count": 9,
      "metadata": {
        "id": "Z0OroZxW9xlP"
      },
      "outputs": [],
      "source": [
        "arr=np.random.rand(1)"
      ]
    },
    {
      "cell_type": "markdown",
      "metadata": {
        "id": "rLW0Jjzp9xlP"
      },
      "source": [
        "#### Use NumPy to generate an array of 25 random numbers sampled from a standard normal distribution"
      ]
    },
    {
      "cell_type": "code",
      "execution_count": 13,
      "metadata": {
        "id": "szluy14n9xlP"
      },
      "outputs": [],
      "source": [
        "from numpy import random\n",
        "arr=random.rand(25)"
      ]
    },
    {
      "cell_type": "markdown",
      "metadata": {
        "id": "_GhI8LYn9xlP"
      },
      "source": [
        "#### Create the following matrix:"
      ]
    },
    {
      "cell_type": "code",
      "execution_count": 14,
      "metadata": {
        "id": "wS1ZBddV9xlP"
      },
      "outputs": [],
      "source": [
        "arr=np.arange(0.01,1.01,0.01)\n",
        "newarr=arr.reshape(10,10)"
      ]
    },
    {
      "cell_type": "markdown",
      "metadata": {
        "id": "3OqA-QtL9xlQ"
      },
      "source": [
        "#### Create an array of 20 linearly spaced points between 0 and 1:"
      ]
    },
    {
      "cell_type": "code",
      "execution_count": 15,
      "metadata": {
        "id": "FNXTugQ29xlQ"
      },
      "outputs": [],
      "source": [
        "arr=np.arange(0,5.25,0.25)"
      ]
    },
    {
      "cell_type": "markdown",
      "metadata": {
        "id": "elx0EaxE9xlQ"
      },
      "source": [
        "## Numpy Indexing and Selection\n",
        "\n",
        "Now you will be given a few matrices, and be asked to replicate the resulting matrix outputs:"
      ]
    },
    {
      "cell_type": "markdown",
      "metadata": {
        "id": "2Tbm9kVf9xlQ"
      },
      "source": []
    },
    {
      "cell_type": "code",
      "execution_count": 17,
      "metadata": {
        "id": "Ft8P8e249xlQ"
      },
      "outputs": [],
      "source": [
        "arr=np.arange(1,26,1)\n",
        "arr=arr.reshape(5,5)"
      ]
    },
    {
      "cell_type": "code",
      "execution_count": 23,
      "metadata": {
        "id": "WrcFkpGL9xlQ"
      },
      "outputs": [],
      "source": [
        "arr=np.arange(12,26,1)\n",
        "arr=np.delete(arr,4)\n",
        "arr=np.delete(arr,8)\n",
        "arr=arr.reshape(3,4)\n"
      ]
    },
    {
      "cell_type": "code",
      "execution_count": 24,
      "metadata": {
        "id": "rnUSntEa9xlQ"
      },
      "outputs": [],
      "source": [
        "arr=np.array(20)"
      ]
    },
    {
      "cell_type": "code",
      "execution_count": 25,
      "metadata": {
        "id": "3DMBC_wp9xlQ"
      },
      "outputs": [],
      "source": [
        "arr=np.array([2,7,12])\n",
        "arr=arr.reshape(3,1)"
      ]
    },
    {
      "cell_type": "code",
      "execution_count": 26,
      "metadata": {
        "id": "pGjD4HUK9xlQ"
      },
      "outputs": [],
      "source": [
        "arr=np.arange(21,26,1)"
      ]
    },
    {
      "cell_type": "code",
      "execution_count": 19,
      "metadata": {
        "id": "dqsdpxUo9xlR"
      },
      "outputs": [],
      "source": [
        "arr=np.arange(16,26,1)\n",
        "arr=arr.reshape(2,5)"
      ]
    },
    {
      "cell_type": "markdown",
      "metadata": {
        "collapsed": true,
        "id": "6vtHuVJU9xlf"
      },
      "source": [
        "# Great Job!"
      ]
    }
  ],
  "metadata": {
    "kernelspec": {
      "display_name": "Python 3 (ipykernel)",
      "language": "python",
      "name": "python3"
    },
    "language_info": {
      "codemirror_mode": {
        "name": "ipython",
        "version": 3
      },
      "file_extension": ".py",
      "mimetype": "text/x-python",
      "name": "python",
      "nbconvert_exporter": "python",
      "pygments_lexer": "ipython3",
      "version": "3.9.12"
    },
    "colab": {
      "provenance": []
    }
  },
  "nbformat": 4,
  "nbformat_minor": 0
}